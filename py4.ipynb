{
 "cells": [
  {
   "cell_type": "code",
   "execution_count": 1,
   "metadata": {},
   "outputs": [],
   "source": [
    "!pip install -q -U google-generativeai"
   ]
  },
  {
   "cell_type": "code",
   "execution_count": 2,
   "metadata": {},
   "outputs": [
    {
     "name": "stderr",
     "output_type": "stream",
     "text": [
      "2024-10-30 12:12:19.601 WARNING streamlit.runtime.scriptrunner_utils.script_run_context: Thread 'MainThread': missing ScriptRunContext! This warning can be ignored when running in bare mode.\n",
      "2024-10-30 12:12:19.601 WARNING streamlit.runtime.scriptrunner_utils.script_run_context: Thread 'MainThread': missing ScriptRunContext! This warning can be ignored when running in bare mode.\n",
      "2024-10-30 12:12:19.601 WARNING streamlit.runtime.state.session_state_proxy: Session state does not function when running a script without `streamlit run`\n",
      "2024-10-30 12:12:19.601 WARNING streamlit.runtime.scriptrunner_utils.script_run_context: Thread 'MainThread': missing ScriptRunContext! This warning can be ignored when running in bare mode.\n",
      "2024-10-30 12:12:19.601 WARNING streamlit.runtime.scriptrunner_utils.script_run_context: Thread 'MainThread': missing ScriptRunContext! This warning can be ignored when running in bare mode.\n",
      "2024-10-30 12:12:19.601 WARNING streamlit.runtime.scriptrunner_utils.script_run_context: Thread 'MainThread': missing ScriptRunContext! This warning can be ignored when running in bare mode.\n",
      "2024-10-30 12:12:20.263 \n",
      "  \u001b[33m\u001b[1mWarning:\u001b[0m to view this Streamlit app on a browser, run it with the following\n",
      "  command:\n",
      "\n",
      "    streamlit run c:\\Users\\Admin\\AppData\\Local\\Programs\\Python\\Python312\\Lib\\site-packages\\ipykernel_launcher.py [ARGUMENTS]\n",
      "2024-10-30 12:12:20.263 Thread 'MainThread': missing ScriptRunContext! This warning can be ignored when running in bare mode.\n",
      "2024-10-30 12:12:20.263 Thread 'MainThread': missing ScriptRunContext! This warning can be ignored when running in bare mode.\n",
      "2024-10-30 12:12:20.263 Thread 'MainThread': missing ScriptRunContext! This warning can be ignored when running in bare mode.\n",
      "2024-10-30 12:12:20.263 Thread 'MainThread': missing ScriptRunContext! This warning can be ignored when running in bare mode.\n",
      "2024-10-30 12:12:20.280 Thread 'MainThread': missing ScriptRunContext! This warning can be ignored when running in bare mode.\n",
      "2024-10-30 12:12:20.283 Thread 'MainThread': missing ScriptRunContext! This warning can be ignored when running in bare mode.\n",
      "2024-10-30 12:12:20.285 Thread 'MainThread': missing ScriptRunContext! This warning can be ignored when running in bare mode.\n"
     ]
    }
   ],
   "source": [
    "import os\n",
    "import streamlit as st\n",
    "from dotenv import load_dotenv\n",
    "import google.generativeai as gen_ai\n",
    "\n",
    "\n",
    "# Load environment variables\n",
    "load_dotenv()\n",
    "\n",
    "# Configure Streamlit page settings\n",
    "st.set_page_config(\n",
    "    page_title=\"Chat with Gemini-Pro!\",\n",
    "    page_icon=\":brain:\",  # Favicon emoji\n",
    "    layout=\"centered\",  # Page layout option\n",
    ")\n",
    "\n",
    "GOOGLE_API_KEY = os.getenv(\"GOOGLE_API_KEY\")\n",
    "\n",
    "# Set up Google Gemini-Pro AI model\n",
    "gen_ai.configure(api_key=GOOGLE_API_KEY)\n",
    "model = gen_ai.GenerativeModel('gemini-pro')\n",
    "\n",
    "\n",
    "# Function to translate roles between Gemini-Pro and Streamlit terminology\n",
    "def translate_role_for_streamlit(user_role):\n",
    "    if user_role == \"model\":\n",
    "        return \"assistant\"\n",
    "    else:\n",
    "        return user_role\n",
    "\n",
    "\n",
    "# Initialize chat session in Streamlit if not already present\n",
    "if \"chat_session\" not in st.session_state:\n",
    "    st.session_state.chat_session = model.start_chat(history=[])\n",
    "\n",
    "\n",
    "# Display the chatbot's title on the page\n",
    "st.title(\"🤖 Gemini Pro - ChatBot\")\n",
    "\n",
    "# Display the chat history\n",
    "for message in st.session_state.chat_session.history:\n",
    "    with st.chat_message(translate_role_for_streamlit(message.role)):\n",
    "        st.markdown(message.parts[0].text)\n",
    "\n",
    "# Input field for user's message\n",
    "user_prompt = st.chat_input(\"Ask Gemini-Pro...\")\n",
    "if user_prompt:\n",
    "    # Add user's message to chat and display it\n",
    "    st.chat_message(\"user\").markdown(user_prompt)\n",
    "\n",
    "    # Send user's message to Gemini-Pro and get the response\n",
    "    gemini_response = st.session_state.chat_session.send_message(user_prompt)\n",
    "\n",
    "    # Display Gemini-Pro's response\n",
    "    with st.chat_message(\"assistant\"):\n",
    "        st.markdown(gemini_response.text)\n",
    "    "
   ]
  },
  {
   "cell_type": "code",
   "execution_count": null,
   "metadata": {},
   "outputs": [
    {
     "ename": "SyntaxError",
     "evalue": "invalid syntax (4024204121.py, line 1)",
     "output_type": "error",
     "traceback": [
      "\u001b[1;36m  Cell \u001b[1;32mIn[12], line 1\u001b[1;36m\u001b[0m\n\u001b[1;33m    from print_llm_response\u001b[0m\n\u001b[1;37m                           ^\u001b[0m\n\u001b[1;31mSyntaxError\u001b[0m\u001b[1;31m:\u001b[0m invalid syntax\n"
     ]
    }
   ],
   "source": [
    "from import print_llm_response"
   ]
  },
  {
   "cell_type": "code",
   "execution_count": 7,
   "metadata": {},
   "outputs": [
    {
     "ename": "NameError",
     "evalue": "name 'print_llm_response' is not defined",
     "output_type": "error",
     "traceback": [
      "\u001b[1;31m---------------------------------------------------------------------------\u001b[0m",
      "\u001b[1;31mNameError\u001b[0m                                 Traceback (most recent call last)",
      "Cell \u001b[1;32mIn[7], line 1\u001b[0m\n\u001b[1;32m----> 1\u001b[0m \u001b[43mprint_llm_response\u001b[49m(\u001b[38;5;124m\"\u001b[39m\u001b[38;5;124mWhat is the capital of France?\u001b[39m\u001b[38;5;124m\"\u001b[39m)\n\u001b[0;32m      2\u001b[0m \u001b[38;5;28;01mdef\u001b[39;00m \u001b[38;5;21mprint_llm_response\u001b[39m(response):\n\u001b[0;32m      3\u001b[0m     \u001b[38;5;28mprint\u001b[39m(response)\n",
      "\u001b[1;31mNameError\u001b[0m: name 'print_llm_response' is not defined"
     ]
    }
   ],
   "source": [
    "print_llm_response(\"What is the capital of France?\")\n",
    "def print_llm_response(response):\n",
    "    print(response)\n",
    "\n"
   ]
  },
  {
   "cell_type": "code",
   "execution_count": null,
   "metadata": {},
   "outputs": [],
   "source": []
  }
 ],
 "metadata": {
  "kernelspec": {
   "display_name": "Python 3",
   "language": "python",
   "name": "python3"
  },
  "language_info": {
   "codemirror_mode": {
    "name": "ipython",
    "version": 3
   },
   "file_extension": ".py",
   "mimetype": "text/x-python",
   "name": "python",
   "nbconvert_exporter": "python",
   "pygments_lexer": "ipython3",
   "version": "3.12.5"
  }
 },
 "nbformat": 4,
 "nbformat_minor": 2
}
