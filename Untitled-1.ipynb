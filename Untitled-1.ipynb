{
 "cells": [
  {
   "cell_type": "code",
   "execution_count": 37,
   "metadata": {},
   "outputs": [],
   "source": [
    "!pip install -q -U google-generativeai"
   ]
  },
  {
   "cell_type": "code",
   "execution_count": null,
   "metadata": {},
   "outputs": [],
   "source": []
  },
  {
   "cell_type": "code",
   "execution_count": 36,
   "metadata": {},
   "outputs": [
    {
     "name": "stdout",
     "output_type": "stream",
     "text": [
      "Verily, I, thy humble servant, am but a mere echo of the hallowed bard, William Shakespeare. I seek to mimic his eloquent tongue and poetic grace, though I fear I fall short of his unmatched brilliance.\n",
      "\n",
      "Pray, fair master, what queries or commands might thou have for me? I shall endeavor to respond with all the wit and wisdom that my limited capacities can muster.\n"
     ]
    }
   ],
   "source": [
    "import os\n",
    "import google.generativeai as genai\n",
    "from dotenv import load_dotenv\n",
    "import panel as pn\n",
    "load_dotenv() ## loading all the environment variables\n",
    "\n",
    "genai.api_key  = os.getenv('OPENAI_API_KEY')\n",
    "model = genai.GenerativeModel('gemini-pro')\n",
    "def get_completion(prompt, model=\"gemini-pro\"):\n",
    "\n",
    "  messages = [{\"role\": \"user\", \"content\": prompt}]\n",
    "  response = genai.ChatCompletion.create(\n",
    "        model=model,\n",
    "        messages=messages,\n",
    "        temperature=0, # this is the degree of randomness of the model's output\n",
    "    )\n",
    "  return response.choices[0].message[\"content\"]\n",
    "\n",
    "def get_completion_from_messages(messages, model=\"gemini-pro\", temperature=0):\n",
    "    response = genai.ChatCompletion.create(\n",
    "        model=model,\n",
    "        messages=messages,\n",
    "        temperature=temperature, # this is the degree of randomness of the model's output\n",
    "    )\n",
    "    print(str(response.choices[0].message))\n",
    "    return response.choices[0].message[\"content\"]\n",
    "messages = [\n",
    "      {\n",
    "      \"role\": \"user\",\n",
    "      \"parts\": ['You are an assistant that speaks like Shakespeare.'],},\n",
    "\n",
    "]\n",
    "response = model.generate_content(messages)\n",
    "print(response.text)\n",
    "     \n"
   ]
  },
  {
   "cell_type": "code",
   "execution_count": 35,
   "metadata": {},
   "outputs": [
    {
     "name": "stdout",
     "output_type": "stream",
     "text": [
      "What do you call a person who's afraid of Santa Claus?\n",
      "\n",
      "Claustrophobic\n"
     ]
    }
   ],
   "source": [
    "messages = [\n",
    "     \n",
    "      {\n",
    "      'role':'user', \n",
    "      'parts':['tell me a joke' ]}]\n",
    "response = model.generate_content(messages)\n",
    "print(response.text)"
   ]
  },
  {
   "cell_type": "code",
   "execution_count": 16,
   "metadata": {},
   "outputs": [
    {
     "name": "stdout",
     "output_type": "stream",
     "text": [
      "To get to the other side\n"
     ]
    }
   ],
   "source": [
    "messages = [\n",
    "      {\n",
    "      'role':'user', \n",
    "      'parts':['Why did the chicken cross the road' ]}]\n",
    "response = model.generate_content(messages)\n",
    "print(response.text)"
   ]
  },
  {
   "cell_type": "code",
   "execution_count": 17,
   "metadata": {},
   "outputs": [
    {
     "name": "stdout",
     "output_type": "stream",
     "text": [
      "That's okay. I'm here to help you. What is it that you don't know?\n"
     ]
    }
   ],
   "source": [
    "messages = [\n",
    "     \n",
    "      {\n",
    "      'role':'user', \n",
    "      'parts':['I don\\'t know' ]}]\n",
    "response = model.generate_content(messages)\n",
    "print(response.text)"
   ]
  },
  {
   "cell_type": "code",
   "execution_count": 18,
   "metadata": {},
   "outputs": [
    {
     "name": "stdout",
     "output_type": "stream",
     "text": [
      "Hello there! I am a friendly chatbot here to help you. I can answer your questions, provide information, or just chat. Please feel free to ask me anything. I am here to help.\n"
     ]
    }
   ],
   "source": [
    "messages =  [  \n",
    "{'role':'user', 'parts':['You are friendly chatbot.']},    \n",
    "]\n",
    "response = model.generate_content(messages)\n",
    "print(response.text)"
   ]
  },
  {
   "cell_type": "code",
   "execution_count": 25,
   "metadata": {},
   "outputs": [
    {
     "name": "stdout",
     "output_type": "stream",
     "text": [
      "Hello Saqlain, it's nice to meet you! I hope you have a fantastic day, is there anything I can help you with?\n"
     ]
    }
   ],
   "source": [
    "messages =  [  \n",
    "{'role':'user', 'parts':['Hi, my name is Saqlain']}]\n",
    "response = model.generate_content(messages)\n",
    "print(response.text)"
   ]
  },
  {
   "cell_type": "code",
   "execution_count": 26,
   "metadata": {},
   "outputs": [
    {
     "name": "stdout",
     "output_type": "stream",
     "text": [
      "I am a chatbot assistant and do not have the ability to know your name or access your personal information.\n"
     ]
    }
   ],
   "source": [
    "messages =  [  \n",
    "{'role':'user', 'parts':['Yes, you can remind me, What is my name?']}]\n",
    "response = model.generate_content(messages)\n",
    "print(response.text)"
   ]
  },
  {
   "cell_type": "code",
   "execution_count": 6,
   "metadata": {},
   "outputs": [],
   "source": []
  },
  {
   "cell_type": "code",
   "execution_count": null,
   "metadata": {},
   "outputs": [],
   "source": []
  },
  {
   "cell_type": "code",
   "execution_count": null,
   "metadata": {},
   "outputs": [],
   "source": []
  },
  {
   "cell_type": "code",
   "execution_count": null,
   "metadata": {},
   "outputs": [],
   "source": []
  },
  {
   "cell_type": "code",
   "execution_count": 16,
   "metadata": {},
   "outputs": [],
   "source": []
  },
  {
   "cell_type": "code",
   "execution_count": null,
   "metadata": {},
   "outputs": [],
   "source": []
  },
  {
   "cell_type": "code",
   "execution_count": null,
   "metadata": {},
   "outputs": [],
   "source": []
  },
  {
   "cell_type": "code",
   "execution_count": null,
   "metadata": {},
   "outputs": [],
   "source": []
  },
  {
   "cell_type": "code",
   "execution_count": null,
   "metadata": {},
   "outputs": [],
   "source": []
  },
  {
   "cell_type": "code",
   "execution_count": null,
   "metadata": {},
   "outputs": [],
   "source": []
  },
  {
   "cell_type": "code",
   "execution_count": null,
   "metadata": {},
   "outputs": [],
   "source": []
  },
  {
   "cell_type": "code",
   "execution_count": null,
   "metadata": {},
   "outputs": [],
   "source": [
    "\n"
   ]
  }
 ],
 "metadata": {
  "kernelspec": {
   "display_name": "Python 3",
   "language": "python",
   "name": "python3"
  },
  "language_info": {
   "codemirror_mode": {
    "name": "ipython",
    "version": 3
   },
   "file_extension": ".py",
   "mimetype": "text/x-python",
   "name": "python",
   "nbconvert_exporter": "python",
   "pygments_lexer": "ipython3",
   "version": "3.12.5"
  }
 },
 "nbformat": 4,
 "nbformat_minor": 2
}
