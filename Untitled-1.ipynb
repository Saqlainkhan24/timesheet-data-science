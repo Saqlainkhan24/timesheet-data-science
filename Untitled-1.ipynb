{
 "cells": [
  {
   "cell_type": "code",
   "execution_count": 64,
   "metadata": {},
   "outputs": [],
   "source": [
    "import pandas as pd"
   ]
  },
  {
   "cell_type": "code",
   "execution_count": 65,
   "metadata": {},
   "outputs": [
    {
     "name": "stdout",
     "output_type": "stream",
     "text": [
      "   a  b   c\n",
      "1  4  7  10\n",
      "2  5  8  11\n",
      "3  6  9  12\n"
     ]
    }
   ],
   "source": [
    "df = pd.DataFrame(\n",
    "{\"a\" : [4, 5, 6], \n",
    "\"b\" : [7, 8, 9], \n",
    "\"c\" : [10, 11, 12]}, \n",
    "index = [1, 2, 3])\n",
    "\n",
    "print(df) \n"
   ]
  },
  {
   "cell_type": "code",
   "execution_count": 66,
   "metadata": {},
   "outputs": [
    {
     "name": "stdout",
     "output_type": "stream",
     "text": [
      "   a  b   c\n",
      "1  4  7  10\n",
      "2  5  8  11\n",
      "3  6  9  12\n"
     ]
    }
   ],
   "source": [
    "df = pd.DataFrame(\n",
    "[[4, 7, 10],\n",
    "[5, 8, 11],\n",
    "[6, 9, 12]], \n",
    "index=[1, 2, 3], \n",
    "columns=['a', 'b', 'c'])\n",
    "print(df)"
   ]
  },
  {
   "cell_type": "code",
   "execution_count": 67,
   "metadata": {},
   "outputs": [
    {
     "name": "stdout",
     "output_type": "stream",
     "text": [
      "   a  b   c\n",
      "0  4  7  10\n",
      "1  5  8  11\n",
      "2  6  9  12\n"
     ]
    }
   ],
   "source": [
    "df = pd.DataFrame(\n",
    "{\"a\" : [4 ,5, 6], \n",
    "\"b\" : [7, 8, 9], \n",
    "\"c\" : [10, 11, 12]},)\n",
    "index = pd.MultiIndex.from_tuples([('d', 1), ('d', 2),('e', 2)], names=['n', 'v'])\n",
    "print(df)"
   ]
  },
  {
   "cell_type": "code",
   "execution_count": 68,
   "metadata": {},
   "outputs": [
    {
     "data": {
      "text/html": [
       "<div>\n",
       "<style scoped>\n",
       "    .dataframe tbody tr th:only-of-type {\n",
       "        vertical-align: middle;\n",
       "    }\n",
       "\n",
       "    .dataframe tbody tr th {\n",
       "        vertical-align: top;\n",
       "    }\n",
       "\n",
       "    .dataframe thead th {\n",
       "        text-align: right;\n",
       "    }\n",
       "</style>\n",
       "<table border=\"1\" class=\"dataframe\">\n",
       "  <thead>\n",
       "    <tr style=\"text-align: right;\">\n",
       "      <th></th>\n",
       "      <th>variable</th>\n",
       "      <th>value</th>\n",
       "    </tr>\n",
       "  </thead>\n",
       "  <tbody>\n",
       "    <tr>\n",
       "      <th>0</th>\n",
       "      <td>a</td>\n",
       "      <td>4</td>\n",
       "    </tr>\n",
       "    <tr>\n",
       "      <th>1</th>\n",
       "      <td>a</td>\n",
       "      <td>5</td>\n",
       "    </tr>\n",
       "    <tr>\n",
       "      <th>2</th>\n",
       "      <td>a</td>\n",
       "      <td>6</td>\n",
       "    </tr>\n",
       "    <tr>\n",
       "      <th>3</th>\n",
       "      <td>b</td>\n",
       "      <td>7</td>\n",
       "    </tr>\n",
       "    <tr>\n",
       "      <th>4</th>\n",
       "      <td>b</td>\n",
       "      <td>8</td>\n",
       "    </tr>\n",
       "    <tr>\n",
       "      <th>5</th>\n",
       "      <td>b</td>\n",
       "      <td>9</td>\n",
       "    </tr>\n",
       "    <tr>\n",
       "      <th>6</th>\n",
       "      <td>c</td>\n",
       "      <td>10</td>\n",
       "    </tr>\n",
       "    <tr>\n",
       "      <th>7</th>\n",
       "      <td>c</td>\n",
       "      <td>11</td>\n",
       "    </tr>\n",
       "    <tr>\n",
       "      <th>8</th>\n",
       "      <td>c</td>\n",
       "      <td>12</td>\n",
       "    </tr>\n",
       "  </tbody>\n",
       "</table>\n",
       "</div>"
      ],
      "text/plain": [
       "  variable  value\n",
       "0        a      4\n",
       "1        a      5\n",
       "2        a      6\n",
       "3        b      7\n",
       "4        b      8\n",
       "5        b      9\n",
       "6        c     10\n",
       "7        c     11\n",
       "8        c     12"
      ]
     },
     "execution_count": 68,
     "metadata": {},
     "output_type": "execute_result"
    }
   ],
   "source": [
    "df = pd.DataFrame(\n",
    "{\"a\" : [4, 5, 6], \n",
    "\"b\" : [7, 8, 9], \n",
    "\"c\" : [10, 11, 12]}, \n",
    "index = [1, 2, 3])\n",
    "pd.melt(df)"
   ]
  },
  {
   "cell_type": "markdown",
   "metadata": {},
   "source": [
    "df = pd.DataFrame(\n",
    "[[4, 7, 10],\n",
    "[5, 8, 11],\n",
    "[6, 9, 12]], \n",
    "index=[1, 2, 3], \n",
    "columns=['a', 'b', 'c'])"
   ]
  },
  {
   "cell_type": "code",
   "execution_count": 3,
   "metadata": {},
   "outputs": [
    {
     "name": "stdout",
     "output_type": "stream",
     "text": [
      "var     A     B\n",
      "0    10.0   NaN\n",
      "1    20.0   NaN\n",
      "2     NaN  30.0\n",
      "3     NaN  40.0\n"
     ]
    }
   ],
   "source": [
    "import pandas as pd\n",
    "\n",
    "data = {\n",
    "    'var': ['A', 'A', 'B', 'B'],\n",
    "    'val': [10, 20, 30, 40]\n",
    "}\n",
    "\n",
    "df = pd.DataFrame(data)\n",
    "pivoted_df = df.pivot(columns='var', values='val')\n",
    "print(pivoted_df)\n",
    "\n",
    "\n"
   ]
  },
  {
   "cell_type": "code",
   "execution_count": 4,
   "metadata": {},
   "outputs": [
    {
     "name": "stdout",
     "output_type": "stream",
     "text": [
      "    Name  Age  Salary\n",
      "1   Anna   22   60000\n",
      "0   John   28   50000\n",
      "4  James   29   65000\n",
      "3  Linda   32   70000\n",
      "2  Peter   35   55000\n"
     ]
    }
   ],
   "source": [
    "import pandas as pd\n",
    "\n",
    "# Sample DataFrame\n",
    "data = {\n",
    "    'Name': ['John', 'Anna', 'Peter', 'Linda', 'James'],\n",
    "    'Age': [28, 22, 35, 32, 29],\n",
    "    'Salary': [50000, 60000, 55000, 70000, 65000]\n",
    "}\n",
    "\n",
    "df = pd.DataFrame(data)\n",
    "sorted_df = df.sort_values(by='Age')\n",
    "print(sorted_df)\n",
    "\n",
    "\n"
   ]
  },
  {
   "cell_type": "code",
   "execution_count": 2,
   "metadata": {},
   "outputs": [
    {
     "name": "stdout",
     "output_type": "stream",
     "text": [
      "var   A   B   C\n",
      "id             \n",
      "1    10  30  50\n",
      "2    20  40  60\n"
     ]
    }
   ],
   "source": [
    "\n",
    "import pandas as pd\n",
    "\n",
    "data = {\n",
    "    'id': [1, 2, 1, 2, 1, 2],\n",
    "    'var': ['A', 'A', 'B', 'B', 'C', 'C'],\n",
    "    'val': [10, 20, 30, 40, 50, 60]\n",
    "}\n",
    "\n",
    "df = pd.DataFrame(data)\n",
    "pivoted_df = df.pivot(index='id', columns='var', values='val')\n",
    "print(pivoted_df)\n",
    "\n"
   ]
  },
  {
   "cell_type": "code",
   "execution_count": 5,
   "metadata": {},
   "outputs": [
    {
     "name": "stdout",
     "output_type": "stream",
     "text": [
      "    Name  Age  Salary\n",
      "0   John   28   50000\n",
      "1   Anna   22   60000\n",
      "0  Peter   35   55000\n",
      "1  Linda   32   70000\n"
     ]
    }
   ],
   "source": [
    "import pandas as pd\n",
    "\n",
    "# Sample DataFrame 1\n",
    "data1 = {\n",
    "    'Name': ['John', 'Anna'],\n",
    "    'Age': [28, 22],\n",
    "    'Salary': [50000, 60000]\n",
    "}\n",
    "\n",
    "df1 = pd.DataFrame(data1)\n",
    "\n",
    "# Sample DataFrame 2\n",
    "data2 = {\n",
    "    'Name': ['Peter', 'Linda'],\n",
    "    'Age': [35, 32],\n",
    "    'Salary': [55000, 70000]\n",
    "}\n",
    "\n",
    "df2 = pd.DataFrame(data2)\n",
    "\n",
    "# Concatenate df1 and df2\n",
    "result = pd.concat([df1, df2])\n",
    "print(result)\n"
   ]
  },
  {
   "cell_type": "code",
   "execution_count": 6,
   "metadata": {},
   "outputs": [
    {
     "name": "stdout",
     "output_type": "stream",
     "text": [
      "   Name  Age  Salary Department\n",
      "0  John   28   50000         HR\n",
      "1  Anna   22   60000         IT\n"
     ]
    }
   ],
   "source": [
    "import pandas as pd\n",
    "\n",
    "# Sample DataFrame 1\n",
    "data1 = {\n",
    "    'Name': ['John', 'Anna'],\n",
    "    'Age': [28, 22]\n",
    "}\n",
    "\n",
    "df1 = pd.DataFrame(data1)\n",
    "\n",
    "# Sample DataFrame 2\n",
    "data2 = {\n",
    "    'Salary': [50000, 60000],\n",
    "    'Department': ['HR', 'IT']\n",
    "}\n",
    "\n",
    "df2 = pd.DataFrame(data2)\n",
    "\n",
    "# Concatenate df1 and df2 column-wise\n",
    "result = pd.concat([df1, df2], axis=1)\n",
    "print(result)\n"
   ]
  },
  {
   "cell_type": "code",
   "execution_count": 7,
   "metadata": {},
   "outputs": [
    {
     "name": "stdout",
     "output_type": "stream",
     "text": [
      "      Car  mpg  Price\n",
      "1   Honda   35  22000\n",
      "4    Audi   32  40000\n",
      "0  Toyota   30  20000\n",
      "3     BMW   28  35000\n",
      "2    Ford   25  18000\n"
     ]
    }
   ],
   "source": [
    "import pandas as pd\n",
    "\n",
    "# Sample DataFrame\n",
    "data = {\n",
    "    'Car': ['Toyota', 'Honda', 'Ford', 'BMW', 'Audi'],\n",
    "    'mpg': [30, 35, 25, 28, 32],\n",
    "    'Price': [20000, 22000, 18000, 35000, 40000]\n",
    "}\n",
    "\n",
    "df = pd.DataFrame(data)\n",
    "sorted_df = df.sort_values('mpg', ascending=False)\n",
    "print(sorted_df)\n",
    "\n"
   ]
  },
  {
   "cell_type": "code",
   "execution_count": 8,
   "metadata": {},
   "outputs": [
    {
     "name": "stdout",
     "output_type": "stream",
     "text": [
      "   year  sales\n",
      "0  2020    100\n",
      "1  2021    150\n",
      "2  2022    200\n"
     ]
    }
   ],
   "source": [
    "import pandas as pd\n",
    "\n",
    "# Sample DataFrame\n",
    "data = {\n",
    "    'y': [2020, 2021, 2022],\n",
    "    'sales': [100, 150, 200]\n",
    "}\n",
    "\n",
    "df = pd.DataFrame(data)\n",
    "\n",
    "df = df.rename(columns={'y': 'year'})\n",
    "print(df)\n"
   ]
  },
  {
   "cell_type": "code",
   "execution_count": 9,
   "metadata": {},
   "outputs": [
    {
     "name": "stdout",
     "output_type": "stream",
     "text": [
      "    Name  Age  Salary\n",
      "4  Peter   35   55000\n",
      "3   John   28   50000\n",
      "2  Linda   32   70000\n",
      "1   Anna   22   60000\n"
     ]
    }
   ],
   "source": [
    "import pandas as pd\n",
    "\n",
    "# Sample DataFrame with unsorted index\n",
    "data = {\n",
    "    'Name': ['John', 'Anna', 'Peter', 'Linda'],\n",
    "    'Age': [28, 22, 35, 32],\n",
    "    'Salary': [50000, 60000, 55000, 70000]\n",
    "}\n",
    "\n",
    "df = pd.DataFrame(data, index=[3, 1, 4, 2])\n",
    "sorted_df = df.sort_index(ascending=False)\n",
    "print(sorted_df)\n"
   ]
  },
  {
   "cell_type": "code",
   "execution_count": 10,
   "metadata": {},
   "outputs": [
    {
     "name": "stdout",
     "output_type": "stream",
     "text": [
      "    Name  Age  Salary\n",
      "0   John   28   50000\n",
      "1   Anna   22   60000\n",
      "2  Peter   35   55000\n",
      "3  Linda   32   70000\n"
     ]
    }
   ],
   "source": [
    "import pandas as pd\n",
    "\n",
    "# Sample DataFrame with custom index\n",
    "data = {\n",
    "    'Name': ['John', 'Anna', 'Peter', 'Linda'],\n",
    "    'Age': [28, 22, 35, 32],\n",
    "    'Salary': [50000, 60000, 55000, 70000]\n",
    "}\n",
    "\n",
    "df = pd.DataFrame(data, index=['a', 'b', 'c', 'd'])\n",
    "\n",
    "reset_df = df.reset_index(drop=True)\n",
    "print(reset_df)\n"
   ]
  },
  {
   "cell_type": "code",
   "execution_count": 11,
   "metadata": {},
   "outputs": [
    {
     "name": "stdout",
     "output_type": "stream",
     "text": [
      "    Name  Age  Salary\n",
      "0   John   28   50000\n",
      "1   Anna   22   60000\n",
      "2  Peter   35   55000\n",
      "3  Linda   32   70000\n"
     ]
    }
   ],
   "source": [
    "import pandas as pd\n",
    "\n",
    "# Sample DataFrame\n",
    "data = {\n",
    "    'Name': ['John', 'Anna', 'Peter', 'Linda'],\n",
    "    'Age': [28, 22, 35, 32],\n",
    "    'Salary': [50000, 60000, 55000, 70000],\n",
    "    'Length': [180, 165, 175, 160],\n",
    "    'Height': [5.9, 5.4, 5.8, 5.3]\n",
    "}\n",
    "\n",
    "df = pd.DataFrame(data)\n",
    "\n",
    "df = df.drop(columns=['Length', 'Height'])\n",
    "print(df)\n"
   ]
  },
  {
   "cell_type": "code",
   "execution_count": 12,
   "metadata": {},
   "outputs": [
    {
     "name": "stdout",
     "output_type": "stream",
     "text": [
      "    Name  Age  Salary\n",
      "0   John   28   50000\n",
      "1   Anna   22   60000\n",
      "3  Peter   35   55000\n"
     ]
    }
   ],
   "source": [
    "import pandas as pd\n",
    "\n",
    "data = {\n",
    "    'Name': ['John', 'Anna', 'John', 'Peter', 'Anna'],\n",
    "    'Age': [28, 22, 28, 35, 22],\n",
    "    'Salary': [50000, 60000, 50000, 55000, 60000]\n",
    "}\n",
    "\n",
    "df = pd.DataFrame(data)\n",
    "\n",
    "df_unique = df.drop_duplicates()\n",
    "print(df_unique)\n"
   ]
  },
  {
   "cell_type": "code",
   "execution_count": 13,
   "metadata": {},
   "outputs": [
    {
     "name": "stdout",
     "output_type": "stream",
     "text": [
      "    Name  Age  Salary\n",
      "2  Peter   35   55000\n",
      "1   Anna   22   60000\n"
     ]
    }
   ],
   "source": [
    "import pandas as pd\n",
    "\n",
    "# Sample DataFrame\n",
    "data = {\n",
    "    'Name': ['John', 'Anna', 'Peter', 'Linda', 'James'],\n",
    "    'Age': [28, 22, 35, 32, 29],\n",
    "    'Salary': [50000, 60000, 55000, 70000, 65000]\n",
    "}\n",
    "\n",
    "df = pd.DataFrame(data)\n",
    "\n",
    "sample_df = df.sample(frac=0.5)\n",
    "print(sample_df)\n"
   ]
  },
  {
   "cell_type": "code",
   "execution_count": 7,
   "metadata": {},
   "outputs": [
    {
     "name": "stdout",
     "output_type": "stream",
     "text": [
      "    Name  Age  Salary\n",
      "4  James   29   65000\n",
      "0   John   28   50000\n",
      "8   Jack   31   53000\n",
      "1   Anna   22   60000\n",
      "1   Anna   22   60000\n",
      "5   Alex   25   48000\n",
      "0   John   28   50000\n",
      "0   John   28   50000\n",
      "5   Alex   25   48000\n",
      "4  James   29   65000\n",
      "0   John   28   50000\n",
      "6   Mona   27   52000\n",
      "3  Linda   32   70000\n",
      "0   John   28   50000\n",
      "2  Peter   35   55000\n"
     ]
    }
   ],
   "source": [
    "import pandas as pd\n",
    "\n",
    "# Sample DataFrame with 15 rows\n",
    "data = {\n",
    "    'Name': ['John', 'Anna', 'Peter', 'Linda', 'James', 'Alex', 'Mona', 'Sophia', 'Jack', 'Paul', 'Rita', 'Tom', 'Lucy', 'Nancy', 'Mike'],\n",
    "    'Age': [28, 22, 35, 32, 29, 25, 27, 24, 31, 34, 26, 30, 23, 33, 36],\n",
    "    'Salary': [50000, 60000, 55000, 70000, 65000, 48000, 52000, 49000, 53000, 61000, 56000, 58000, 47000, 62000, 59000]\n",
    "}\n",
    "\n",
    "df = pd.DataFrame(data)\n",
    "\n",
    "# Randomly sample 10 rows from the DataFrame\n",
    "sample_df = df.sample(n=15)\n",
    "\n",
    "# Print the sampled DataFrame\n",
    "# DataFrame with only 5 rows\n",
    "small_df = df.head(15)\n",
    "\n",
    "# Sample 10 rows with replacement\n",
    "sample_df = small_df.sample(n=15, replace=True)\n",
    "\n",
    "# Print the sampled DataFrame\n",
    "# DataFrame with only 5 rows\n",
    "small_df = df.head(10)\n",
    "\n",
    "# Sample 10 rows with replacement\n",
    "sample_df = small_df.sample(n=15, replace=True)\n",
    "\n",
    "# Print the sampled DataFrame\n",
    "print(sample_df)\n",
    "\n"
   ]
  },
  {
   "cell_type": "code",
   "execution_count": 1,
   "metadata": {},
   "outputs": [
    {
     "name": "stdout",
     "output_type": "stream",
     "text": [
      "     Name  Age  Salary\n",
      "3   Linda   32   70000\n",
      "4   James   29   65000\n",
      "5    Alex   25   48000\n",
      "6    Mona   27   52000\n",
      "7  Sophia   24   49000\n"
     ]
    }
   ],
   "source": [
    "import pandas as pd\n",
    "\n",
    "# Sample DataFrame\n",
    "data = {\n",
    "    'Name': ['John', 'Anna', 'Peter', 'Linda', 'James', 'Alex', 'Mona', 'Sophia'],\n",
    "    'Age': [28, 22, 35, 32, 29, 25, 27, 24],\n",
    "    'Salary': [50000, 60000, 55000, 70000, 65000, 48000, 52000, 49000]\n",
    "}\n",
    "\n",
    "df = pd.DataFrame(data)\n",
    "\n",
    "last_5_rows = df.tail()\n",
    "print(last_5_rows)\n"
   ]
  },
  {
   "cell_type": "code",
   "execution_count": 2,
   "metadata": {},
   "outputs": [
    {
     "name": "stdout",
     "output_type": "stream",
     "text": [
      "   width  length species\n",
      "0    5.1     1.4  setosa\n",
      "1    4.9     1.4  setosa\n",
      "2    4.7     1.3  setosa\n",
      "3    4.6     1.5  setosa\n",
      "4    5.0     1.4  setosa\n"
     ]
    }
   ],
   "source": [
    "import pandas as pd\n",
    "\n",
    "# Sample DataFrame\n",
    "data = {\n",
    "    'width': [5.1, 4.9, 4.7, 4.6, 5.0],\n",
    "    'length': [1.4, 1.4, 1.3, 1.5, 1.4],\n",
    "    'species': ['setosa', 'setosa', 'setosa', 'setosa', 'setosa'],\n",
    "    'color': ['red', 'blue', 'green', 'yellow', 'purple'],\n",
    "    'weight': [0.2, 0.2, 0.2, 0.2, 0.2]\n",
    "}\n",
    "\n",
    "df = pd.DataFrame(data)\n",
    "selected_columns = df[['width', 'length', 'species']]\n",
    "print(selected_columns)\n",
    "\n"
   ]
  },
  {
   "cell_type": "code",
   "execution_count": 3,
   "metadata": {},
   "outputs": [
    {
     "name": "stdout",
     "output_type": "stream",
     "text": [
      "0    5.1\n",
      "1    4.9\n",
      "2    4.7\n",
      "3    4.6\n",
      "4    5.0\n",
      "Name: width, dtype: float64\n"
     ]
    }
   ],
   "source": [
    "import pandas as pd\n",
    "\n",
    "# Sample DataFrame\n",
    "data = {\n",
    "    'width': [5.1, 4.9, 4.7, 4.6, 5.0],\n",
    "    'length': [1.4, 1.4, 1.3, 1.5, 1.4],\n",
    "    'species': ['setosa', 'setosa', 'setosa', 'setosa', 'setosa']\n",
    "}\n",
    "\n",
    "df = pd.DataFrame(data)\n",
    "\n",
    "width_column = df['width']\n",
    "print(width_column)\n"
   ]
  },
  {
   "cell_type": "code",
   "execution_count": 31,
   "metadata": {},
   "outputs": [],
   "source": [
    "import pandas as pd\n",
    "\n",
    "# Sample DataFrame\n",
    "data = {\n",
    "    'width': [5.1, 4.9, 4.7, 4.6, 5.0],\n",
    "    'length': [1.4, 1.4, 1.3, 1.5, 1.4],\n",
    "    'species': ['setosa', 'setosa', 'setosa', 'setosa', 'setosa'],\n",
    "    'length_of_stem': [10.5, 9.8, 10.1, 10.3, 9.9]\n",
    "}\n",
    "\n",
    "df = pd.DataFrame(data)\n"
   ]
  },
  {
   "cell_type": "code",
   "execution_count": null,
   "metadata": {},
   "outputs": [],
   "source": []
  },
  {
   "cell_type": "code",
   "execution_count": 1,
   "metadata": {},
   "outputs": [
    {
     "data": {
      "text/html": [
       "<div>\n",
       "<style scoped>\n",
       "    .dataframe tbody tr th:only-of-type {\n",
       "        vertical-align: middle;\n",
       "    }\n",
       "\n",
       "    .dataframe tbody tr th {\n",
       "        vertical-align: top;\n",
       "    }\n",
       "\n",
       "    .dataframe thead th {\n",
       "        text-align: right;\n",
       "    }\n",
       "</style>\n",
       "<table border=\"1\" class=\"dataframe\">\n",
       "  <thead>\n",
       "    <tr style=\"text-align: right;\">\n",
       "      <th></th>\n",
       "      <th>Name</th>\n",
       "      <th>Age</th>\n",
       "      <th>City</th>\n",
       "    </tr>\n",
       "  </thead>\n",
       "  <tbody>\n",
       "    <tr>\n",
       "      <th>10</th>\n",
       "      <td>Kate</td>\n",
       "      <td>23</td>\n",
       "      <td>Austin</td>\n",
       "    </tr>\n",
       "    <tr>\n",
       "      <th>11</th>\n",
       "      <td>Leo</td>\n",
       "      <td>34</td>\n",
       "      <td>Jacksonville</td>\n",
       "    </tr>\n",
       "    <tr>\n",
       "      <th>12</th>\n",
       "      <td>Mona</td>\n",
       "      <td>38</td>\n",
       "      <td>San Francisco</td>\n",
       "    </tr>\n",
       "    <tr>\n",
       "      <th>13</th>\n",
       "      <td>Nina</td>\n",
       "      <td>32</td>\n",
       "      <td>Columbus</td>\n",
       "    </tr>\n",
       "    <tr>\n",
       "      <th>14</th>\n",
       "      <td>Oscar</td>\n",
       "      <td>36</td>\n",
       "      <td>Indianapolis</td>\n",
       "    </tr>\n",
       "    <tr>\n",
       "      <th>15</th>\n",
       "      <td>Paul</td>\n",
       "      <td>27</td>\n",
       "      <td>Fort Worth</td>\n",
       "    </tr>\n",
       "    <tr>\n",
       "      <th>16</th>\n",
       "      <td>Quincy</td>\n",
       "      <td>39</td>\n",
       "      <td>Charlotte</td>\n",
       "    </tr>\n",
       "    <tr>\n",
       "      <th>17</th>\n",
       "      <td>Rachel</td>\n",
       "      <td>21</td>\n",
       "      <td>Seattle</td>\n",
       "    </tr>\n",
       "    <tr>\n",
       "      <th>18</th>\n",
       "      <td>Sam</td>\n",
       "      <td>24</td>\n",
       "      <td>Denver</td>\n",
       "    </tr>\n",
       "    <tr>\n",
       "      <th>19</th>\n",
       "      <td>Tom</td>\n",
       "      <td>37</td>\n",
       "      <td>Washington D.C.</td>\n",
       "    </tr>\n",
       "  </tbody>\n",
       "</table>\n",
       "</div>"
      ],
      "text/plain": [
       "      Name  Age             City\n",
       "10    Kate   23           Austin\n",
       "11     Leo   34     Jacksonville\n",
       "12    Mona   38    San Francisco\n",
       "13    Nina   32         Columbus\n",
       "14   Oscar   36     Indianapolis\n",
       "15    Paul   27       Fort Worth\n",
       "16  Quincy   39        Charlotte\n",
       "17  Rachel   21          Seattle\n",
       "18     Sam   24           Denver\n",
       "19     Tom   37  Washington D.C."
      ]
     },
     "execution_count": 1,
     "metadata": {},
     "output_type": "execute_result"
    }
   ],
   "source": [
    "import pandas as pd\n",
    "\n",
    "# Create a sample DataFrame\n",
    "data = {\n",
    "    'Name': ['Alice', 'Bob', 'Charlie', 'David', 'Eva', 'Frank', 'Grace', 'Henry', 'Ivy', 'Jack', \n",
    "             'Kate', 'Leo', 'Mona', 'Nina', 'Oscar', 'Paul', 'Quincy', 'Rachel', 'Sam', 'Tom'],\n",
    "    'Age': [25, 30, 35, 28, 22, 40, 33, 26, 29, 31, \n",
    "            23, 34, 38, 32, 36, 27, 39, 21, 24, 37],\n",
    "    'City': ['New York', 'Chicago', 'Los Angeles', 'Houston', 'Phoenix', 'Philadelphia', 'San Antonio', 'San Diego', \n",
    "             'Dallas', 'San Jose', 'Austin', 'Jacksonville', 'San Francisco', 'Columbus', 'Indianapolis', \n",
    "             'Fort Worth', 'Charlotte', 'Seattle', 'Denver', 'Washington D.C.']\n",
    "}\n",
    "\n",
    "df = pd.DataFrame(data)\n",
    "\n",
    "# Display rows from index 10 to 19\n",
    "df.iloc[10:20]\n"
   ]
  },
  {
   "cell_type": "code",
   "execution_count": 2,
   "metadata": {},
   "outputs": [
    {
     "data": {
      "text/html": [
       "<div>\n",
       "<style scoped>\n",
       "    .dataframe tbody tr th:only-of-type {\n",
       "        vertical-align: middle;\n",
       "    }\n",
       "\n",
       "    .dataframe tbody tr th {\n",
       "        vertical-align: top;\n",
       "    }\n",
       "\n",
       "    .dataframe thead th {\n",
       "        text-align: right;\n",
       "    }\n",
       "</style>\n",
       "<table border=\"1\" class=\"dataframe\">\n",
       "  <thead>\n",
       "    <tr style=\"text-align: right;\">\n",
       "      <th></th>\n",
       "      <th>Age</th>\n",
       "      <th>City</th>\n",
       "      <th>Department</th>\n",
       "    </tr>\n",
       "  </thead>\n",
       "  <tbody>\n",
       "    <tr>\n",
       "      <th>0</th>\n",
       "      <td>25</td>\n",
       "      <td>New York</td>\n",
       "      <td>HR</td>\n",
       "    </tr>\n",
       "    <tr>\n",
       "      <th>1</th>\n",
       "      <td>30</td>\n",
       "      <td>Chicago</td>\n",
       "      <td>Engineering</td>\n",
       "    </tr>\n",
       "    <tr>\n",
       "      <th>2</th>\n",
       "      <td>35</td>\n",
       "      <td>Los Angeles</td>\n",
       "      <td>Marketing</td>\n",
       "    </tr>\n",
       "    <tr>\n",
       "      <th>3</th>\n",
       "      <td>28</td>\n",
       "      <td>Houston</td>\n",
       "      <td>Finance</td>\n",
       "    </tr>\n",
       "    <tr>\n",
       "      <th>4</th>\n",
       "      <td>22</td>\n",
       "      <td>Phoenix</td>\n",
       "      <td>Sales</td>\n",
       "    </tr>\n",
       "  </tbody>\n",
       "</table>\n",
       "</div>"
      ],
      "text/plain": [
       "   Age         City   Department\n",
       "0   25     New York           HR\n",
       "1   30      Chicago  Engineering\n",
       "2   35  Los Angeles    Marketing\n",
       "3   28      Houston      Finance\n",
       "4   22      Phoenix        Sales"
      ]
     },
     "execution_count": 2,
     "metadata": {},
     "output_type": "execute_result"
    }
   ],
   "source": [
    "import pandas as pd\n",
    "\n",
    "# Create a sample DataFrame\n",
    "data = {\n",
    "    'Name': ['Alice', 'Bob', 'Charlie', 'David', 'Eva'],\n",
    "    'Age': [25, 30, 35, 28, 22],\n",
    "    'City': ['New York', 'Chicago', 'Los Angeles', 'Houston', 'Phoenix'],\n",
    "    'Salary': [70000, 80000, 120000, 95000, 67000],\n",
    "    'Gender': ['F', 'M', 'M', 'M', 'F'],\n",
    "    'Department': ['HR', 'Engineering', 'Marketing', 'Finance', 'Sales']\n",
    "}\n",
    "\n",
    "df = pd.DataFrame(data)\n",
    "\n",
    "# Selecting all rows but only columns at index positions 1, 2, and 5\n",
    "df.iloc[:, [1, 2, 5]]\n"
   ]
  },
  {
   "cell_type": "code",
   "execution_count": 1,
   "metadata": {},
   "outputs": [
    {
     "data": {
      "text/html": [
       "<div>\n",
       "<style scoped>\n",
       "    .dataframe tbody tr th:only-of-type {\n",
       "        vertical-align: middle;\n",
       "    }\n",
       "\n",
       "    .dataframe tbody tr th {\n",
       "        vertical-align: top;\n",
       "    }\n",
       "\n",
       "    .dataframe thead th {\n",
       "        text-align: right;\n",
       "    }\n",
       "</style>\n",
       "<table border=\"1\" class=\"dataframe\">\n",
       "  <thead>\n",
       "    <tr style=\"text-align: right;\">\n",
       "      <th></th>\n",
       "      <th>x2</th>\n",
       "      <th>x3</th>\n",
       "      <th>x4</th>\n",
       "    </tr>\n",
       "  </thead>\n",
       "  <tbody>\n",
       "    <tr>\n",
       "      <th>0</th>\n",
       "      <td>15</td>\n",
       "      <td>100</td>\n",
       "      <td>5</td>\n",
       "    </tr>\n",
       "    <tr>\n",
       "      <th>1</th>\n",
       "      <td>25</td>\n",
       "      <td>200</td>\n",
       "      <td>10</td>\n",
       "    </tr>\n",
       "    <tr>\n",
       "      <th>2</th>\n",
       "      <td>35</td>\n",
       "      <td>300</td>\n",
       "      <td>15</td>\n",
       "    </tr>\n",
       "    <tr>\n",
       "      <th>3</th>\n",
       "      <td>45</td>\n",
       "      <td>400</td>\n",
       "      <td>20</td>\n",
       "    </tr>\n",
       "    <tr>\n",
       "      <th>4</th>\n",
       "      <td>55</td>\n",
       "      <td>500</td>\n",
       "      <td>25</td>\n",
       "    </tr>\n",
       "  </tbody>\n",
       "</table>\n",
       "</div>"
      ],
      "text/plain": [
       "   x2   x3  x4\n",
       "0  15  100   5\n",
       "1  25  200  10\n",
       "2  35  300  15\n",
       "3  45  400  20\n",
       "4  55  500  25"
      ]
     },
     "execution_count": 1,
     "metadata": {},
     "output_type": "execute_result"
    }
   ],
   "source": [
    "import pandas as pd\n",
    "\n",
    "# Create a sample DataFrame\n",
    "data = {\n",
    "    'x1': [10, 20, 30, 40, 50],\n",
    "    'x2': [15, 25, 35, 45, 55],\n",
    "    'x3': [100, 200, 300, 400, 500],\n",
    "    'x4': [5, 10, 15, 20, 25],\n",
    "    'x5': [50, 60, 70, 80, 90]\n",
    "}\n",
    "\n",
    "df = pd.DataFrame(data)\n",
    "\n",
    "# Selecting all rows but only columns from 'x2' to 'x4' inclusive\n",
    "df.loc[:, 'x2':'x4']\n"
   ]
  },
  {
   "cell_type": "code",
   "execution_count": 2,
   "metadata": {},
   "outputs": [
    {
     "data": {
      "text/html": [
       "<div>\n",
       "<style scoped>\n",
       "    .dataframe tbody tr th:only-of-type {\n",
       "        vertical-align: middle;\n",
       "    }\n",
       "\n",
       "    .dataframe tbody tr th {\n",
       "        vertical-align: top;\n",
       "    }\n",
       "\n",
       "    .dataframe thead th {\n",
       "        text-align: right;\n",
       "    }\n",
       "</style>\n",
       "<table border=\"1\" class=\"dataframe\">\n",
       "  <thead>\n",
       "    <tr style=\"text-align: right;\">\n",
       "      <th></th>\n",
       "      <th>a</th>\n",
       "      <th>c</th>\n",
       "    </tr>\n",
       "  </thead>\n",
       "  <tbody>\n",
       "    <tr>\n",
       "      <th>1</th>\n",
       "      <td>15</td>\n",
       "      <td>Y</td>\n",
       "    </tr>\n",
       "    <tr>\n",
       "      <th>2</th>\n",
       "      <td>25</td>\n",
       "      <td>Z</td>\n",
       "    </tr>\n",
       "    <tr>\n",
       "      <th>4</th>\n",
       "      <td>12</td>\n",
       "      <td>V</td>\n",
       "    </tr>\n",
       "  </tbody>\n",
       "</table>\n",
       "</div>"
      ],
      "text/plain": [
       "    a  c\n",
       "1  15  Y\n",
       "2  25  Z\n",
       "4  12  V"
      ]
     },
     "execution_count": 2,
     "metadata": {},
     "output_type": "execute_result"
    }
   ],
   "source": [
    "import pandas as pd\n",
    "\n",
    "# Create a sample DataFrame\n",
    "data = {\n",
    "    'a': [5, 15, 25, 8, 12],\n",
    "    'b': [100, 200, 300, 400, 500],\n",
    "    'c': ['X', 'Y', 'Z', 'W', 'V'],\n",
    "    'd': [1, 2, 3, 4, 5]\n",
    "}\n",
    "\n",
    "df = pd.DataFrame(data)\n",
    "\n",
    "# Select rows where 'a' > 10 and only display columns 'a' and 'c'\n",
    "df.loc[df['a'] > 10, ['a', 'c']]\n"
   ]
  },
  {
   "cell_type": "code",
   "execution_count": 3,
   "metadata": {},
   "outputs": [
    {
     "data": {
      "text/plain": [
       "'Y'"
      ]
     },
     "execution_count": 3,
     "metadata": {},
     "output_type": "execute_result"
    }
   ],
   "source": [
    "import pandas as pd\n",
    "\n",
    "# Create a sample DataFrame\n",
    "data = {\n",
    "    'a': [5, 15, 25],\n",
    "    'b': [100, 200, 300],\n",
    "    'c': ['X', 'Y', 'Z'],\n",
    "    'd': [1, 2, 3]\n",
    "}\n",
    "\n",
    "df = pd.DataFrame(data)\n",
    "\n",
    "# Access the value at row index 1 and column index 2\n",
    "value = df.iat[1, 2]\n",
    "value\n"
   ]
  },
  {
   "cell_type": "code",
   "execution_count": 4,
   "metadata": {},
   "outputs": [
    {
     "data": {
      "text/plain": [
       "A     6\n",
       "B    15\n",
       "C    24\n",
       "dtype: int64"
      ]
     },
     "execution_count": 4,
     "metadata": {},
     "output_type": "execute_result"
    }
   ],
   "source": [
    "import pandas as pd\n",
    "\n",
    "# Create a sample DataFrame\n",
    "data = {\n",
    "    'A': [1, 2, 3],\n",
    "    'B': [4, 5, 6],\n",
    "    'C': [7, 8, 9]\n",
    "}\n",
    "\n",
    "df = pd.DataFrame(data)\n",
    "\n",
    "# Sum of each column\n",
    "column_sum = df.sum()\n",
    "column_sum\n"
   ]
  },
  {
   "cell_type": "code",
   "execution_count": 5,
   "metadata": {},
   "outputs": [
    {
     "data": {
      "text/plain": [
       "A    1\n",
       "B    2\n",
       "C    0\n",
       "dtype: int64"
      ]
     },
     "execution_count": 5,
     "metadata": {},
     "output_type": "execute_result"
    }
   ],
   "source": [
    "import pandas as pd\n",
    "\n",
    "# Create a sample DataFrame\n",
    "data = {\n",
    "    'A': [1, 5, 3],\n",
    "    'B': [4, 2, 6],\n",
    "    'C': [7, 8, 0]\n",
    "}\n",
    "\n",
    "df = pd.DataFrame(data)\n",
    "\n",
    "# Find the minimum value in each column\n",
    "column_min = df.min()\n",
    "column_min\n"
   ]
  },
  {
   "cell_type": "code",
   "execution_count": 16,
   "metadata": {},
   "outputs": [
    {
     "name": "stdout",
     "output_type": "stream",
     "text": [
      "Maximum values in each column:\n",
      "A    5\n",
      "B    6\n",
      "C    8\n",
      "dtype: int64\n"
     ]
    }
   ],
   "source": [
    "import pandas as pd\n",
    "\n",
    "# Create a sample DataFrame\n",
    "df = pd.DataFrame({\n",
    "    'A': [1, 5, 3],\n",
    "    'B': [4, 2, 6],\n",
    "    'C': [7, 8, 0]\n",
    "})\n",
    "\n",
    "# Find the maximum value in each column\n",
    "column_max = df.max()\n",
    "\n",
    "print(\"Maximum values in each column:\")\n",
    "print(column_max)\n"
   ]
  },
  {
   "cell_type": "code",
   "execution_count": 6,
   "metadata": {},
   "outputs": [
    {
     "data": {
      "text/plain": [
       "A    2.0\n",
       "B    5.0\n",
       "C    8.0\n",
       "dtype: float64"
      ]
     },
     "execution_count": 6,
     "metadata": {},
     "output_type": "execute_result"
    }
   ],
   "source": [
    "import pandas as pd\n",
    "\n",
    "# Create a sample DataFrame\n",
    "data = {\n",
    "    'A': [1, 2, 3],\n",
    "    'B': [4, 5, 6],\n",
    "    'C': [7, 8, 9]\n",
    "}\n",
    "\n",
    "df = pd.DataFrame(data)\n",
    "\n",
    "# Calculate the mean of each column\n",
    "column_mean = df.mean()\n",
    "column_mean\n"
   ]
  },
  {
   "cell_type": "code",
   "execution_count": 7,
   "metadata": {},
   "outputs": [
    {
     "data": {
      "text/plain": [
       "A    3.0\n",
       "B    4.0\n",
       "C    7.0\n",
       "dtype: float64"
      ]
     },
     "execution_count": 7,
     "metadata": {},
     "output_type": "execute_result"
    }
   ],
   "source": [
    "import pandas as pd\n",
    "\n",
    "# Create a sample DataFrame\n",
    "data = {\n",
    "    'A': [1, 5, 3],\n",
    "    'B': [4, 2, 6],\n",
    "    'C': [7, 8, 0]\n",
    "}\n",
    "\n",
    "df = pd.DataFrame(data)\n",
    "\n",
    "# Calculate the median of each column\n",
    "column_median = df.median()\n",
    "column_median\n"
   ]
  },
  {
   "cell_type": "code",
   "execution_count": null,
   "metadata": {},
   "outputs": [],
   "source": []
  },
  {
   "cell_type": "code",
   "execution_count": 9,
   "metadata": {},
   "outputs": [
    {
     "name": "stdout",
     "output_type": "stream",
     "text": [
      "   x1    A   B\n",
      "0   3   A3  B3\n",
      "1   4   A4  B4\n",
      "2   5  NaN  B5\n"
     ]
    }
   ],
   "source": [
    "import pandas as pd\n",
    "\n",
    "# Create the first DataFrame (left DataFrame)\n",
    "adf = pd.DataFrame({\n",
    "    'x1': [1, 2, 3, 4],\n",
    "    'A': ['A1', 'A2', 'A3', 'A4']\n",
    "})\n",
    "\n",
    "# Create the second DataFrame (right DataFrame)\n",
    "bdf = pd.DataFrame({\n",
    "    'x1': [3, 4, 5],\n",
    "    'B': ['B3', 'B4', 'B5']\n",
    "})\n",
    "\n",
    "# Perform a left merge\n",
    "result = pd.merge(adf, bdf, how='right', on='x1')\n",
    "\n",
    "print(result)\n"
   ]
  },
  {
   "cell_type": "code",
   "execution_count": 10,
   "metadata": {},
   "outputs": [
    {
     "name": "stdout",
     "output_type": "stream",
     "text": [
      "   Length  Height  Area\n",
      "0       2       3     6\n",
      "1       4       5    20\n",
      "2       6       7    42\n"
     ]
    }
   ],
   "source": [
    "import pandas as pd\n",
    "\n",
    "# Create a sample DataFrame\n",
    "df = pd.DataFrame({\n",
    "    'Length': [2, 4, 6],\n",
    "    'Height': [3, 5, 7]\n",
    "})\n",
    "\n",
    "# Add a new column 'Area' as the product of 'Length' and 'Height'\n",
    "df = df.assign(Area=lambda df: df.Length * df.Height)\n",
    "\n",
    "print(df)\n"
   ]
  },
  {
   "cell_type": "code",
   "execution_count": 11,
   "metadata": {},
   "outputs": [
    {
     "name": "stdout",
     "output_type": "stream",
     "text": [
      "   Length  Height  Depth  Volume\n",
      "0       2       3      1       6\n",
      "1       4       5      2      40\n",
      "2       6       7      3     126\n"
     ]
    }
   ],
   "source": [
    "import pandas as pd\n",
    "\n",
    "# Create a sample DataFrame\n",
    "df = pd.DataFrame({\n",
    "    'Length': [2, 4, 6],\n",
    "    'Height': [3, 5, 7],\n",
    "    'Depth': [1, 2, 3]\n",
    "})\n",
    "\n",
    "# Calculate the volume and add it as a new column 'Volume'\n",
    "df['Volume'] = df.Length * df.Height * df.Depth\n",
    "\n",
    "print(df)\n"
   ]
  },
  {
   "cell_type": "code",
   "execution_count": 12,
   "metadata": {},
   "outputs": [
    {
     "name": "stdout",
     "output_type": "stream",
     "text": [
      "   Values  Bin\n",
      "0      10    0\n",
      "1      20    1\n",
      "2      15    0\n",
      "3      30    2\n",
      "4      25    1\n",
      "5      40    3\n",
      "6      35    2\n",
      "7      50    3\n"
     ]
    }
   ],
   "source": [
    "import pandas as pd\n",
    "\n",
    "# Create a sample DataFrame\n",
    "df = pd.DataFrame({\n",
    "    'Values': [10, 20, 15, 30, 25, 40, 35, 50]\n",
    "})\n",
    "\n",
    "# Use pd.qcut to create 4 quantile-based bins and assign bin numbers\n",
    "df['Bin'] = pd.qcut(df['Values'], q=4, labels=False)\n",
    "\n",
    "print(df)\n"
   ]
  },
  {
   "cell_type": "code",
   "execution_count": 13,
   "metadata": {},
   "outputs": [
    {
     "name": "stdout",
     "output_type": "stream",
     "text": [
      "Original DataFrame:\n",
      "               Value\n",
      "letter number       \n",
      "A      1          10\n",
      "       2          20\n",
      "B      1          30\n",
      "       2          40\n",
      "C      1          50\n",
      "       2          60\n",
      "D      1          70\n",
      "       2          80\n",
      "\n",
      "Grouped DataFrame:\n",
      "\n",
      "Group: A\n",
      "               Value\n",
      "letter number       \n",
      "A      1          10\n",
      "       2          20\n",
      "\n",
      "Group: B\n",
      "               Value\n",
      "letter number       \n",
      "B      1          30\n",
      "       2          40\n",
      "\n",
      "Group: C\n",
      "               Value\n",
      "letter number       \n",
      "C      1          50\n",
      "       2          60\n",
      "\n",
      "Group: D\n",
      "               Value\n",
      "letter number       \n",
      "D      1          70\n",
      "       2          80\n"
     ]
    }
   ],
   "source": [
    "import pandas as pd\n",
    "\n",
    "# Create a sample DataFrame with a MultiIndex\n",
    "index = pd.MultiIndex.from_tuples([\n",
    "    ('A', 1), ('A', 2), ('B', 1), ('B', 2),\n",
    "    ('C', 1), ('C', 2), ('D', 1), ('D', 2)\n",
    "], names=['letter', 'number'])\n",
    "\n",
    "df = pd.DataFrame({\n",
    "    'Value': [10, 20, 30, 40, 50, 60, 70, 80]\n",
    "}, index=index)\n",
    "\n",
    "print(\"Original DataFrame:\")\n",
    "print(df)\n",
    "\n",
    "# Group by the first level of the MultiIndex\n",
    "grouped = df.groupby(level=\"letter\")\n",
    "\n",
    "print(\"\\nGrouped DataFrame:\")\n",
    "for name, group in grouped:\n",
    "    print(f\"\\nGroup: {name}\")\n",
    "    print(group)\n"
   ]
  },
  {
   "cell_type": "code",
   "execution_count": 14,
   "metadata": {},
   "outputs": [
    {
     "name": "stdout",
     "output_type": "stream",
     "text": [
      "Total number of elements in the DataFrame:\n",
      "6\n"
     ]
    }
   ],
   "source": [
    "# Create a sample DataFrame\n",
    "df = pd.DataFrame({\n",
    "    'Length': [2, 4, 6],\n",
    "    'Height': [3, 5, 7]\n",
    "})\n",
    "\n",
    "# Get the total number of elements in the DataFrame\n",
    "total_elements = df.size\n",
    "\n",
    "print(\"Total number of elements in the DataFrame:\")\n",
    "print(total_elements)\n"
   ]
  },
  {
   "cell_type": "code",
   "execution_count": 15,
   "metadata": {},
   "outputs": [
    {
     "name": "stdout",
     "output_type": "stream",
     "text": [
      "Aggregation result:\n",
      "         A     B\n",
      "sum   10.0   NaN\n",
      "mean   2.5   NaN\n",
      "max    NaN  40.0\n",
      "min    NaN  10.0\n"
     ]
    }
   ],
   "source": [
    "import pandas as pd\n",
    "\n",
    "# Create a sample DataFrame\n",
    "df = pd.DataFrame({\n",
    "    'A': [1, 2, 3, 4],\n",
    "    'B': [10, 20, 30, 40]\n",
    "})\n",
    "\n",
    "# Apply different aggregation functions to columns 'A' and 'B'\n",
    "result = df.agg({\n",
    "    'A': ['sum', 'mean'],  # Sum and mean of column 'A'\n",
    "    'B': ['max', 'min']    # Max and min of column 'B'\n",
    "})\n",
    "\n",
    "print(\"Aggregation result:\")\n",
    "print(result)\n"
   ]
  },
  {
   "cell_type": "code",
   "execution_count": 17,
   "metadata": {},
   "outputs": [
    {
     "name": "stdout",
     "output_type": "stream",
     "text": [
      "Variance of each column:\n",
      "A    1.666667\n",
      "B    1.666667\n",
      "C    1.666667\n",
      "dtype: float64\n"
     ]
    }
   ],
   "source": [
    "import pandas as pd\n",
    "\n",
    "# Create a sample DataFrame\n",
    "df = pd.DataFrame({\n",
    "    'A': [1, 2, 3, 4],\n",
    "    'B': [5, 6, 7, 8],\n",
    "    'C': [9, 10, 11, 12]\n",
    "})\n",
    "\n",
    "# Calculate the variance of each column\n",
    "column_variance = df.var()\n",
    "\n",
    "print(\"Variance of each column:\")\n",
    "print(column_variance)\n"
   ]
  },
  {
   "cell_type": "code",
   "execution_count": 18,
   "metadata": {},
   "outputs": [
    {
     "name": "stdout",
     "output_type": "stream",
     "text": [
      "Quantiles (25th and 75th percentiles):\n",
      "0.25    18.75\n",
      "0.75    36.25\n",
      "dtype: float64\n"
     ]
    }
   ],
   "source": [
    "import pandas as pd\n",
    "\n",
    "# Create a sample Series\n",
    "s = pd.Series([10, 20, 15, 25, 30, 35, 40, 50])\n",
    "\n",
    "# Calculate the 25th and 75th percentiles\n",
    "quantiles = s.quantile([0.25, 0.75])\n",
    "\n",
    "print(\"Quantiles (25th and 75th percentiles):\")\n",
    "print(quantiles)\n"
   ]
  },
  {
   "cell_type": "code",
   "execution_count": 19,
   "metadata": {},
   "outputs": [
    {
     "name": "stdout",
     "output_type": "stream",
     "text": [
      "Squared values:\n",
      "0     1\n",
      "1     4\n",
      "2     9\n",
      "3    16\n",
      "4    25\n",
      "dtype: int64\n"
     ]
    }
   ],
   "source": [
    "import pandas as pd\n",
    "\n",
    "# Create a sample Series\n",
    "s = pd.Series([1, 2, 3, 4, 5])\n",
    "\n",
    "# Define a custom function\n",
    "def square(x):\n",
    "    return x ** 2\n",
    "\n",
    "# Apply the custom function to each element of the Series\n",
    "squared = s.apply(square)\n",
    "\n",
    "print(\"Squared values:\")\n",
    "print(squared)\n"
   ]
  },
  {
   "cell_type": "code",
   "execution_count": 20,
   "metadata": {},
   "outputs": [
    {
     "name": "stdout",
     "output_type": "stream",
     "text": [
      "Merged DataFrame (Inner Join):\n",
      "   x1   A   B\n",
      "0   3  A3  B3\n",
      "1   4  A4  B4\n"
     ]
    }
   ],
   "source": [
    "import pandas as pd\n",
    "\n",
    "# Create the first DataFrame (adf)\n",
    "adf = pd.DataFrame({\n",
    "    'x1': [1, 2, 3, 4],\n",
    "    'A': ['A1', 'A2', 'A3', 'A4']\n",
    "})\n",
    "\n",
    "# Create the second DataFrame (bdf)\n",
    "bdf = pd.DataFrame({\n",
    "    'x1': [3, 4, 5, 6],\n",
    "    'B': ['B3', 'B4', 'B5', 'B6']\n",
    "})\n",
    "\n",
    "# Perform an inner join on 'x1'\n",
    "merged_df = pd.merge(adf, bdf, how='inner', on='x1')\n",
    "\n",
    "print(\"Merged DataFrame (Inner Join):\")\n",
    "print(merged_df)\n"
   ]
  },
  {
   "cell_type": "code",
   "execution_count": 21,
   "metadata": {},
   "outputs": [
    {
     "name": "stdout",
     "output_type": "stream",
     "text": [
      "Merged DataFrame (Outer Join):\n",
      "   x1    A    B\n",
      "0   1   A1  NaN\n",
      "1   2   A2  NaN\n",
      "2   3   A3   B3\n",
      "3   4   A4   B4\n",
      "4   5  NaN   B5\n",
      "5   6  NaN   B6\n"
     ]
    }
   ],
   "source": [
    "import pandas as pd\n",
    "\n",
    "# Create the first DataFrame (adf)\n",
    "adf = pd.DataFrame({\n",
    "    'x1': [1, 2, 3, 4],\n",
    "    'A': ['A1', 'A2', 'A3', 'A4']\n",
    "})\n",
    "\n",
    "# Create the second DataFrame (bdf)\n",
    "bdf = pd.DataFrame({\n",
    "    'x1': [3, 4, 5, 6],\n",
    "    'B': ['B3', 'B4', 'B5', 'B6']\n",
    "})\n",
    "\n",
    "# Perform an outer join on 'x1'\n",
    "merged_df = pd.merge(adf, bdf, how='outer', on='x1')\n",
    "\n",
    "print(\"Merged DataFrame (Outer Join):\")\n",
    "print(merged_df)\n"
   ]
  },
  {
   "cell_type": "code",
   "execution_count": 22,
   "metadata": {},
   "outputs": [
    {
     "name": "stdout",
     "output_type": "stream",
     "text": [
      "Filtered DataFrame (rows in adf where x1 is in bdf's x1):\n",
      "   x1   A\n",
      "2   3  A3\n",
      "3   4  A4\n"
     ]
    }
   ],
   "source": [
    "import pandas as pd\n",
    "\n",
    "# Create the first DataFrame (adf)\n",
    "adf = pd.DataFrame({\n",
    "    'x1': [1, 2, 3, 4],\n",
    "    'A': ['A1', 'A2', 'A3', 'A4']\n",
    "})\n",
    "\n",
    "# Create the second DataFrame (bdf)\n",
    "bdf = pd.DataFrame({\n",
    "    'x1': [3, 4, 5, 6],\n",
    "    'B': ['B3', 'B4', 'B5', 'B6']\n",
    "})\n",
    "\n",
    "# Filter rows in adf where x1 is in bdf's x1 column\n",
    "filtered_adf = adf[adf.x1.isin(bdf.x1)]\n",
    "\n",
    "print(\"Filtered DataFrame (rows in adf where x1 is in bdf's x1):\")\n",
    "print(filtered_adf)\n"
   ]
  },
  {
   "cell_type": "code",
   "execution_count": 23,
   "metadata": {},
   "outputs": [
    {
     "name": "stdout",
     "output_type": "stream",
     "text": [
      "Filtered DataFrame (rows in adf where x1 is NOT in bdf's x1):\n",
      "   x1   A\n",
      "0   1  A1\n",
      "1   2  A2\n"
     ]
    }
   ],
   "source": [
    "import pandas as pd\n",
    "\n",
    "# Create the first DataFrame (adf)\n",
    "adf = pd.DataFrame({\n",
    "    'x1': [1, 2, 3, 4],\n",
    "    'A': ['A1', 'A2', 'A3', 'A4']\n",
    "})\n",
    "\n",
    "# Create the second DataFrame (bdf)\n",
    "bdf = pd.DataFrame({\n",
    "    'x1': [3, 4, 5, 6],\n",
    "    'B': ['B3', 'B4', 'B5', 'B6']\n",
    "})\n",
    "\n",
    "# Filter rows in adf where x1 is NOT in bdf's x1 column\n",
    "filtered_adf = adf[~adf.x1.isin(bdf.x1)]\n",
    "\n",
    "print(\"Filtered DataFrame (rows in adf where x1 is NOT in bdf's x1):\")\n",
    "print(filtered_adf)\n"
   ]
  },
  {
   "cell_type": "code",
   "execution_count": 24,
   "metadata": {},
   "outputs": [
    {
     "name": "stdout",
     "output_type": "stream",
     "text": [
      "Filtered DataFrame (rows in adf where x1 is NOT in bdf's x1):\n",
      "   x1   A\n",
      "0   1  A1\n",
      "1   2  A2\n"
     ]
    }
   ],
   "source": [
    "import pandas as pd\n",
    "\n",
    "# Create the first DataFrame (adf)\n",
    "adf = pd.DataFrame({\n",
    "    'x1': [1, 2, 3, 4],\n",
    "    'A': ['A1', 'A2', 'A3', 'A4']\n",
    "})\n",
    "\n",
    "# Create the second DataFrame (bdf)\n",
    "bdf = pd.DataFrame({\n",
    "    'x1': [3, 4, 5, 6],\n",
    "    'B': ['B3', 'B4', 'B5', 'B6']\n",
    "})\n",
    "\n",
    "# Filter rows in adf where x1 is NOT in bdf's x1 column\n",
    "filtered_adf = adf[~adf.x1.isin(bdf.x1)]\n",
    "\n",
    "print(\"Filtered DataFrame (rows in adf where x1 is NOT in bdf's x1):\")\n",
    "print(filtered_adf)\n"
   ]
  },
  {
   "cell_type": "code",
   "execution_count": 25,
   "metadata": {},
   "outputs": [
    {
     "name": "stdout",
     "output_type": "stream",
     "text": [
      "Merged DataFrame:\n",
      "   id     name  age\n",
      "0   3  Charlie   23\n",
      "1   4    David   34\n"
     ]
    }
   ],
   "source": [
    "import pandas as pd\n",
    "\n",
    "# Create the first DataFrame (ydf)\n",
    "ydf = pd.DataFrame({\n",
    "    'id': [1, 2, 3, 4],\n",
    "    'name': ['Alice', 'Bob', 'Charlie', 'David']\n",
    "})\n",
    "\n",
    "# Create the second DataFrame (zdf)\n",
    "zdf = pd.DataFrame({\n",
    "    'id': [3, 4, 5, 6],\n",
    "    'age': [23, 34, 45, 56]\n",
    "})\n",
    "\n",
    "# Merge ydf and zdf (default is an inner join on 'id')\n",
    "merged_df = pd.merge(ydf, zdf)\n",
    "\n",
    "print(\"Merged DataFrame:\")\n",
    "print(merged_df)\n"
   ]
  },
  {
   "cell_type": "code",
   "execution_count": 26,
   "metadata": {},
   "outputs": [
    {
     "name": "stdout",
     "output_type": "stream",
     "text": [
      "Merged DataFrame (Outer Join):\n",
      "   id     name   age\n",
      "0   1    Alice   NaN\n",
      "1   2      Bob   NaN\n",
      "2   3  Charlie  23.0\n",
      "3   4    David  34.0\n",
      "4   5      NaN  45.0\n",
      "5   6      NaN  56.0\n"
     ]
    }
   ],
   "source": [
    "import pandas as pd\n",
    "\n",
    "# Create the first DataFrame (ydf)\n",
    "ydf = pd.DataFrame({\n",
    "    'id': [1, 2, 3, 4],\n",
    "    'name': ['Alice', 'Bob', 'Charlie', 'David']\n",
    "})\n",
    "\n",
    "# Create the second DataFrame (zdf)\n",
    "zdf = pd.DataFrame({\n",
    "    'id': [3, 4, 5, 6],\n",
    "    'age': [23, 34, 45, 56]\n",
    "})\n",
    "\n",
    "# Merge ydf and zdf using an outer join on 'id'\n",
    "merged_df = pd.merge(ydf, zdf, how='outer', on='id')\n",
    "\n",
    "print(\"Merged DataFrame (Outer Join):\")\n",
    "print(merged_df)\n"
   ]
  },
  {
   "cell_type": "code",
   "execution_count": 27,
   "metadata": {},
   "outputs": [
    {
     "name": "stdout",
     "output_type": "stream",
     "text": [
      "Filtered DataFrame (Rows only in ydf):\n",
      "   id   name  age\n",
      "0   1  Alice  NaN\n",
      "1   2    Bob  NaN\n"
     ]
    }
   ],
   "source": [
    "import pandas as pd\n",
    "\n",
    "# Create the first DataFrame (ydf)\n",
    "ydf = pd.DataFrame({\n",
    "    'id': [1, 2, 3, 4],\n",
    "    'name': ['Alice', 'Bob', 'Charlie', 'David']\n",
    "})\n",
    "\n",
    "# Create the second DataFrame (zdf)\n",
    "zdf = pd.DataFrame({\n",
    "    'id': [3, 4, 5, 6],\n",
    "    'age': [23, 34, 45, 56]\n",
    "})\n",
    "\n",
    "# Perform an outer join with indicator, and filter rows only in 'ydf'\n",
    "result_df = pd.merge(ydf, zdf, how='outer', indicator=True)\\\n",
    "              .query('_merge == \"left_only\"')\\\n",
    "              .drop(columns=['_merge'])\n",
    "\n",
    "print(\"Filtered DataFrame (Rows only in ydf):\")\n",
    "print(result_df)\n"
   ]
  },
  {
   "cell_type": "code",
   "execution_count": 28,
   "metadata": {},
   "outputs": [
    {
     "name": "stdout",
     "output_type": "stream",
     "text": [
      "         Date  Sales  Previous_Sales\n",
      "0  2024-09-01    200             NaN\n",
      "1  2024-09-02    220           200.0\n",
      "2  2024-09-03    250           220.0\n",
      "3  2024-09-04    270           250.0\n"
     ]
    }
   ],
   "source": [
    "import pandas as pd\n",
    "\n",
    "# Create a DataFrame\n",
    "df = pd.DataFrame({\n",
    "    'Date': ['2024-09-01', '2024-09-02', '2024-09-03', '2024-09-04'],\n",
    "    'Sales': [200, 220, 250, 270]\n",
    "})\n",
    "\n",
    "# Shift the 'Sales' column by 1 period\n",
    "df['Previous_Sales'] = df['Sales'].shift(1)\n",
    "\n",
    "print(df)\n"
   ]
  },
  {
   "cell_type": "code",
   "execution_count": 29,
   "metadata": {},
   "outputs": [
    {
     "name": "stdout",
     "output_type": "stream",
     "text": [
      "    Player  Score  Rank\n",
      "0    Alice     85   2.0\n",
      "1      Bob     92   1.0\n",
      "2  Charlie     85   2.0\n",
      "3    David     76   3.0\n",
      "4      Eve     92   1.0\n"
     ]
    }
   ],
   "source": [
    "import pandas as pd\n",
    "\n",
    "# Create a DataFrame\n",
    "df = pd.DataFrame({\n",
    "    'Player': ['Alice', 'Bob', 'Charlie', 'David', 'Eve'],\n",
    "    'Score': [85, 92, 85, 76, 92]\n",
    "})\n",
    "\n",
    "# Rank the 'Score' column using the 'dense' method\n",
    "df['Rank'] = df['Score'].rank(method='dense', ascending=False)\n",
    "\n",
    "print(df)\n"
   ]
  },
  {
   "cell_type": "code",
   "execution_count": 30,
   "metadata": {},
   "outputs": [
    {
     "name": "stdout",
     "output_type": "stream",
     "text": [
      "Original Series:\n",
      "0    10\n",
      "1    20\n",
      "2    30\n",
      "3    40\n",
      "dtype: int64\n",
      "\n",
      "Cumulative Sum:\n",
      "0     10\n",
      "1     30\n",
      "2     60\n",
      "3    100\n",
      "dtype: int64\n"
     ]
    }
   ],
   "source": [
    "import pandas as pd\n",
    "\n",
    "# Create a Series\n",
    "s = pd.Series([10, 20, 30, 40])\n",
    "\n",
    "# Compute the cumulative sum\n",
    "cumulative_sum = s.cumsum()\n",
    "\n",
    "print(\"Original Series:\")\n",
    "print(s)\n",
    "print(\"\\nCumulative Sum:\")\n",
    "print(cumulative_sum)\n"
   ]
  },
  {
   "cell_type": "code",
   "execution_count": 31,
   "metadata": {},
   "outputs": [
    {
     "name": "stdout",
     "output_type": "stream",
     "text": [
      "Original Series:\n",
      "0    100\n",
      "1    200\n",
      "2    200\n",
      "3    300\n",
      "4    400\n",
      "dtype: int64\n",
      "\n",
      "Ranks (method='min'):\n",
      "0    1.0\n",
      "1    2.0\n",
      "2    2.0\n",
      "3    4.0\n",
      "4    5.0\n",
      "dtype: float64\n"
     ]
    }
   ],
   "source": [
    "import pandas as pd\n",
    "\n",
    "# Create a Series\n",
    "s = pd.Series([100, 200, 200, 300, 400])\n",
    "\n",
    "# Compute the rank using the 'min' method\n",
    "rank_min = s.rank(method='min')\n",
    "\n",
    "print(\"Original Series:\")\n",
    "print(s)\n",
    "print(\"\\nRanks (method='min'):\")\n",
    "print(rank_min)\n"
   ]
  },
  {
   "cell_type": "code",
   "execution_count": 32,
   "metadata": {},
   "outputs": [
    {
     "name": "stdout",
     "output_type": "stream",
     "text": [
      "Original Series:\n",
      "0    3\n",
      "1    1\n",
      "2    4\n",
      "3    1\n",
      "4    5\n",
      "5    9\n",
      "6    2\n",
      "7    6\n",
      "dtype: int64\n",
      "\n",
      "Cumulative Maximum:\n",
      "0    3\n",
      "1    3\n",
      "2    4\n",
      "3    4\n",
      "4    5\n",
      "5    9\n",
      "6    9\n",
      "7    9\n",
      "dtype: int64\n"
     ]
    }
   ],
   "source": [
    "import pandas as pd\n",
    "\n",
    "# Create a Series\n",
    "s = pd.Series([3, 1, 4, 1, 5, 9, 2, 6])\n",
    "\n",
    "# Compute the cumulative maximum\n",
    "cumulative_max = s.cummax()\n",
    "\n",
    "print(\"Original Series:\")\n",
    "print(s)\n",
    "print(\"\\nCumulative Maximum:\")\n",
    "print(cumulative_max)\n"
   ]
  },
  {
   "cell_type": "code",
   "execution_count": 33,
   "metadata": {},
   "outputs": [
    {
     "name": "stdout",
     "output_type": "stream",
     "text": [
      "Original Series:\n",
      "0    1\n",
      "1    2\n",
      "2    3\n",
      "3    4\n",
      "4    5\n",
      "dtype: int64\n",
      "\n",
      "Cumulative Product:\n",
      "0      1\n",
      "1      2\n",
      "2      6\n",
      "3     24\n",
      "4    120\n",
      "dtype: int64\n"
     ]
    }
   ],
   "source": [
    "import pandas as pd\n",
    "\n",
    "# Create a Series\n",
    "s = pd.Series([1, 2, 3, 4, 5])\n",
    "\n",
    "# Compute the cumulative product\n",
    "cumulative_product = s.cumprod()\n",
    "\n",
    "print(\"Original Series:\")\n",
    "print(s)\n",
    "print(\"\\nCumulative Product:\")\n",
    "print(cumulative_product)\n"
   ]
  },
  {
   "cell_type": "code",
   "execution_count": 34,
   "metadata": {},
   "outputs": [
    {
     "name": "stdout",
     "output_type": "stream",
     "text": [
      "Original Series:\n",
      "0    100\n",
      "1    200\n",
      "2    200\n",
      "3    300\n",
      "4    100\n",
      "dtype: int64\n",
      "\n",
      "Ranks (method='first'):\n",
      "0    1.0\n",
      "1    3.0\n",
      "2    4.0\n",
      "3    5.0\n",
      "4    2.0\n",
      "dtype: float64\n"
     ]
    }
   ],
   "source": [
    "import pandas as pd\n",
    "\n",
    "# Create a Series\n",
    "s = pd.Series([100, 200, 200, 300, 100])\n",
    "\n",
    "# Compute the rank using the 'first' method\n",
    "rank_first = s.rank(method='first')\n",
    "\n",
    "print(\"Original Series:\")\n",
    "print(s)\n",
    "print(\"\\nRanks (method='first'):\")\n",
    "print(rank_first)\n"
   ]
  },
  {
   "cell_type": "code",
   "execution_count": 35,
   "metadata": {},
   "outputs": [
    {
     "name": "stdout",
     "output_type": "stream",
     "text": [
      "Original Series:\n",
      "0    10\n",
      "1    20\n",
      "2    30\n",
      "3    40\n",
      "4    50\n",
      "dtype: int64\n",
      "\n",
      "Shifted Series (shift(-1)):\n",
      "0    20.0\n",
      "1    30.0\n",
      "2    40.0\n",
      "3    50.0\n",
      "4     NaN\n",
      "dtype: float64\n"
     ]
    }
   ],
   "source": [
    "import pandas as pd\n",
    "\n",
    "# Create a Series\n",
    "s = pd.Series([10, 20, 30, 40, 50])\n",
    "\n",
    "# Shift values upward by 1 position\n",
    "shifted_series = s.shift(-1)\n",
    "\n",
    "print(\"Original Series:\")\n",
    "print(s)\n",
    "print(\"\\nShifted Series (shift(-1)):\")\n",
    "print(shifted_series)\n"
   ]
  },
  {
   "cell_type": "code",
   "execution_count": 36,
   "metadata": {},
   "outputs": [
    {
     "name": "stdout",
     "output_type": "stream",
     "text": [
      "Original DataFrame:\n",
      "    A   B   C\n",
      "0  10   5   7\n",
      "1  20  25  15\n",
      "2  30  35  40\n",
      "\n",
      "Row-wise Maximum (max(axis=1)):\n",
      "0    10\n",
      "1    25\n",
      "2    40\n",
      "dtype: int64\n"
     ]
    }
   ],
   "source": [
    "import pandas as pd\n",
    "\n",
    "# Create a DataFrame\n",
    "df = pd.DataFrame({\n",
    "    'A': [10, 20, 30],\n",
    "    'B': [5, 25, 35],\n",
    "    'C': [7, 15, 40]\n",
    "})\n",
    "\n",
    "# Compute the maximum value across each row\n",
    "row_max = df.max(axis=1)\n",
    "\n",
    "print(\"Original DataFrame:\")\n",
    "print(df)\n",
    "print(\"\\nRow-wise Maximum (max(axis=1)):\")\n",
    "print(row_max)\n"
   ]
  },
  {
   "cell_type": "code",
   "execution_count": 37,
   "metadata": {},
   "outputs": [
    {
     "name": "stdout",
     "output_type": "stream",
     "text": [
      "Original DataFrame:\n",
      "    A   B   C\n",
      "0  10   5   7\n",
      "1  20  25  15\n",
      "2  30  35  40\n",
      "\n",
      "Row-wise Minimum (min(axis=1)):\n",
      "0     5\n",
      "1    15\n",
      "2    30\n",
      "dtype: int64\n"
     ]
    }
   ],
   "source": [
    "import pandas as pd\n",
    "\n",
    "# Create a DataFrame\n",
    "df = pd.DataFrame({\n",
    "    'A': [10, 20, 30],\n",
    "    'B': [5, 25, 35],\n",
    "    'C': [7, 15, 40]\n",
    "})\n",
    "\n",
    "# Compute the minimum value across each row\n",
    "row_min = df.min(axis=1)\n",
    "\n",
    "print(\"Original DataFrame:\")\n",
    "print(df)\n",
    "print(\"\\nRow-wise Minimum (min(axis=1)):\")\n",
    "print(row_min)\n"
   ]
  },
  {
   "cell_type": "code",
   "execution_count": 38,
   "metadata": {},
   "outputs": [
    {
     "name": "stdout",
     "output_type": "stream",
     "text": [
      "Original DataFrame:\n",
      "    A   B   C\n",
      "0  15 -12  11\n",
      "1 -20  25 -15\n",
      "2   5   0  30\n",
      "3   8  -7  -3\n",
      "\n",
      "Clipped DataFrame (clip(lower=-10, upper=10)):\n",
      "    A   B   C\n",
      "0  10 -10  10\n",
      "1 -10  10 -10\n",
      "2   5   0  10\n",
      "3   8  -7  -3\n"
     ]
    }
   ],
   "source": [
    "import pandas as pd\n",
    "\n",
    "# Create a DataFrame\n",
    "df = pd.DataFrame({\n",
    "    'A': [15, -20, 5, 8],\n",
    "    'B': [-12, 25, 0, -7],\n",
    "    'C': [11, -15, 30, -3]\n",
    "})\n",
    "\n",
    "# Clip the values between -10 and 10\n",
    "clipped_df = df.clip(lower=-10, upper=10)\n",
    "\n",
    "print(\"Original DataFrame:\")\n",
    "print(df)\n",
    "print(\"\\nClipped DataFrame (clip(lower=-10, upper=10)):\")\n",
    "print(clipped_df)\n"
   ]
  },
  {
   "cell_type": "code",
   "execution_count": 39,
   "metadata": {},
   "outputs": [
    {
     "name": "stdout",
     "output_type": "stream",
     "text": [
      "Original DataFrame:\n",
      "    A   B   C\n",
      "0  -5  20 -35\n",
      "1  10 -25  40\n",
      "2 -15  30 -45\n",
      "\n",
      "Absolute Value DataFrame (abs()):\n",
      "    A   B   C\n",
      "0   5  20  35\n",
      "1  10  25  40\n",
      "2  15  30  45\n"
     ]
    }
   ],
   "source": [
    "import pandas as pd\n",
    "\n",
    "# Create a DataFrame with positive and negative values\n",
    "df = pd.DataFrame({\n",
    "    'A': [-5, 10, -15],\n",
    "    'B': [20, -25, 30],\n",
    "    'C': [-35, 40, -45]\n",
    "})\n",
    "\n",
    "# Compute the absolute values\n",
    "abs_df = df.abs()\n",
    "\n",
    "print(\"Original DataFrame:\")\n",
    "print(df)\n",
    "print(\"\\nAbsolute Value DataFrame (abs()):\")\n",
    "print(abs_df)\n"
   ]
  },
  {
   "cell_type": "code",
   "execution_count": 40,
   "metadata": {},
   "outputs": [
    {
     "name": "stdout",
     "output_type": "stream",
     "text": [
      "Original DataFrame:\n",
      "   A   B\n",
      "0  1  10\n",
      "1  2  20\n",
      "2  3  30\n",
      "3  4  40\n",
      "4  5  50\n",
      "\n",
      "Expanding Mean:\n",
      "     A     B\n",
      "0  1.0  10.0\n",
      "1  1.5  15.0\n",
      "2  2.0  20.0\n",
      "3  2.5  25.0\n",
      "4  3.0  30.0\n"
     ]
    }
   ],
   "source": [
    "import pandas as pd\n",
    "\n",
    "# Create a DataFrame\n",
    "df = pd.DataFrame({\n",
    "    'A': [1, 2, 3, 4, 5],\n",
    "    'B': [10, 20, 30, 40, 50]\n",
    "})\n",
    "\n",
    "# Compute the expanding mean\n",
    "expanding_mean = df.expanding().mean()\n",
    "\n",
    "print(\"Original DataFrame:\")\n",
    "print(df)\n",
    "print(\"\\nExpanding Mean:\")\n",
    "print(expanding_mean)\n"
   ]
  },
  {
   "cell_type": "code",
   "execution_count": 41,
   "metadata": {},
   "outputs": [
    {
     "name": "stdout",
     "output_type": "stream",
     "text": [
      "Original DataFrame:\n",
      "   A   B\n",
      "0  1  10\n",
      "1  2  20\n",
      "2  3  30\n",
      "3  4  40\n",
      "4  5  50\n",
      "\n",
      "Rolling Mean (window=2):\n",
      "     A     B\n",
      "0  NaN   NaN\n",
      "1  1.5  15.0\n",
      "2  2.5  25.0\n",
      "3  3.5  35.0\n",
      "4  4.5  45.0\n"
     ]
    }
   ],
   "source": [
    "import pandas as pd\n",
    "\n",
    "# Create a DataFrame\n",
    "df = pd.DataFrame({\n",
    "    'A': [1, 2, 3, 4, 5],\n",
    "    'B': [10, 20, 30, 40, 50]\n",
    "})\n",
    "\n",
    "# Compute the rolling mean with a window size of 2\n",
    "rolling_mean = df.rolling(window=2).mean()\n",
    "\n",
    "print(\"Original DataFrame:\")\n",
    "print(df)\n",
    "print(\"\\nRolling Mean (window=2):\")\n",
    "print(rolling_mean)\n"
   ]
  },
  {
   "cell_type": "code",
   "execution_count": 58,
   "metadata": {},
   "outputs": [
    {
     "data": {
      "text/html": [
       "<div>\n",
       "<style scoped>\n",
       "    .dataframe tbody tr th:only-of-type {\n",
       "        vertical-align: middle;\n",
       "    }\n",
       "\n",
       "    .dataframe tbody tr th {\n",
       "        vertical-align: top;\n",
       "    }\n",
       "\n",
       "    .dataframe thead th {\n",
       "        text-align: right;\n",
       "    }\n",
       "</style>\n",
       "<table border=\"1\" class=\"dataframe\">\n",
       "  <thead>\n",
       "    <tr style=\"text-align: right;\">\n",
       "      <th></th>\n",
       "      <th>Player</th>\n",
       "      <th>Score</th>\n",
       "    </tr>\n",
       "  </thead>\n",
       "  <tbody>\n",
       "    <tr>\n",
       "      <th>4</th>\n",
       "      <td>David</td>\n",
       "      <td>92</td>\n",
       "    </tr>\n",
       "    <tr>\n",
       "      <th>3</th>\n",
       "      <td>Eve</td>\n",
       "      <td>76</td>\n",
       "    </tr>\n",
       "    <tr>\n",
       "      <th>2</th>\n",
       "      <td>Charlie</td>\n",
       "      <td>85</td>\n",
       "    </tr>\n",
       "    <tr>\n",
       "      <th>1</th>\n",
       "      <td>Bob</td>\n",
       "      <td>92</td>\n",
       "    </tr>\n",
       "    <tr>\n",
       "      <th>0</th>\n",
       "      <td>Alice</td>\n",
       "      <td>85</td>\n",
       "    </tr>\n",
       "  </tbody>\n",
       "</table>\n",
       "</div>"
      ],
      "text/plain": [
       "    Player  Score\n",
       "4    David     92\n",
       "3      Eve     76\n",
       "2  Charlie     85\n",
       "1      Bob     92\n",
       "0    Alice     85"
      ]
     },
     "execution_count": 58,
     "metadata": {},
     "output_type": "execute_result"
    }
   ],
   "source": [
    "import pandas as pd\n",
    "\n",
    "# Create a DataFrame\n",
    "df = pd.DataFrame({\n",
    "    'Player': ['Alice', 'Bob', 'Charlie', 'Eve', 'David'],\n",
    "    'Score': [85, 92, 85, 76, 92]\n",
    "})\n",
    "df.sort_index(ascending=False)"
   ]
  },
  {
   "cell_type": "code",
   "execution_count": 68,
   "metadata": {},
   "outputs": [
    {
     "name": "stdout",
     "output_type": "stream",
     "text": [
      "   A  B\n",
      "0  1  4\n",
      "1  2  5\n",
      "2  3  6\n"
     ]
    }
   ],
   "source": [
    "import pandas as pd\n",
    "\n",
    "df1 = pd.DataFrame({\n",
    "    'A' : [ 1,2,3]})\n",
    "df2 = pd.DataFrame({\n",
    "    'B' : [4,5,6]})\n",
    "\n",
    "result = pd.concat([df1,df2],axis=1)\n",
    "print(result)\n"
   ]
  },
  {
   "cell_type": "code",
   "execution_count": 2,
   "metadata": {},
   "outputs": [
    {
     "name": "stdout",
     "output_type": "stream",
     "text": [
      "Hello\n",
      "\n",
      "Bonjour\n"
     ]
    }
   ],
   "source": [
    "class English:\n",
    "\n",
    "    def greeting(self):\n",
    "        print('Hello')\n",
    "\n",
    "\n",
    "class French:\n",
    "\n",
    "    def greeting(self):\n",
    "        print('Bonjour')\n",
    "\n",
    "\n",
    "def greet(language):\n",
    "    language.greeting()\n",
    "\n",
    "e = English()\n",
    "greet(e)\n",
    "\n",
    "print('')\n",
    "\n",
    "f= French()\n",
    "greet(f)"
   ]
  },
  {
   "cell_type": "code",
   "execution_count": null,
   "metadata": {},
   "outputs": [],
   "source": []
  }
 ],
 "metadata": {
  "kernelspec": {
   "display_name": "Python 3",
   "language": "python",
   "name": "python3"
  },
  "language_info": {
   "codemirror_mode": {
    "name": "ipython",
    "version": 3
   },
   "file_extension": ".py",
   "mimetype": "text/x-python",
   "name": "python",
   "nbconvert_exporter": "python",
   "pygments_lexer": "ipython3",
   "version": "3.12.5"
  }
 },
 "nbformat": 4,
 "nbformat_minor": 2
}
